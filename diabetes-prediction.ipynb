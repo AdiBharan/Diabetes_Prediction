{
 "cells": [
  {
   "cell_type": "code",
   "execution_count": 1,
   "id": "8649b8c5",
   "metadata": {
    "_cell_guid": "b1076dfc-b9ad-4769-8c92-a6c4dae69d19",
    "_uuid": "8f2839f25d086af736a60e9eeb907d3b93b6e0e5",
    "execution": {
     "iopub.execute_input": "2022-07-29T13:54:02.530519Z",
     "iopub.status.busy": "2022-07-29T13:54:02.529916Z",
     "iopub.status.idle": "2022-07-29T13:54:02.548948Z",
     "shell.execute_reply": "2022-07-29T13:54:02.548171Z"
    },
    "papermill": {
     "duration": 0.033822,
     "end_time": "2022-07-29T13:54:02.551543",
     "exception": false,
     "start_time": "2022-07-29T13:54:02.517721",
     "status": "completed"
    },
    "tags": []
   },
   "outputs": [
    {
     "name": "stdout",
     "output_type": "stream",
     "text": [
      "/kaggle/input/docspot/datasets_228_482_diabetes.csv\n"
     ]
    }
   ],
   "source": [
    "# This Python 3 environment comes with many helpful analytics libraries installed\n",
    "# It is defined by the kaggle/python Docker image: https://github.com/kaggle/docker-python\n",
    "# For example, here's several helpful packages to load\n",
    "\n",
    "import numpy as np # linear algebra\n",
    "import pandas as pd # data processing, CSV file I/O (e.g. pd.read_csv)\n",
    "\n",
    "# Input data files are available in the read-only \"../input/\" directory\n",
    "# For example, running this (by clicking run or pressing Shift+Enter) will list all files under the input directory\n",
    "\n",
    "import os\n",
    "for dirname, _, filenames in os.walk('/kaggle/input'):\n",
    "    for filename in filenames:\n",
    "        print(os.path.join(dirname, filename))\n",
    "\n",
    "# You can write up to 20GB to the current directory (/kaggle/working/) that gets preserved as output when you create a version using \"Save & Run All\" \n",
    "# You can also write temporary files to /kaggle/temp/, but they won't be saved outside of the current session"
   ]
  },
  {
   "cell_type": "code",
   "execution_count": 2,
   "id": "c304d6e5",
   "metadata": {
    "execution": {
     "iopub.execute_input": "2022-07-29T13:54:02.572351Z",
     "iopub.status.busy": "2022-07-29T13:54:02.571654Z",
     "iopub.status.idle": "2022-07-29T13:54:03.864136Z",
     "shell.execute_reply": "2022-07-29T13:54:03.862956Z"
    },
    "papermill": {
     "duration": 1.305668,
     "end_time": "2022-07-29T13:54:03.866709",
     "exception": false,
     "start_time": "2022-07-29T13:54:02.561041",
     "status": "completed"
    },
    "tags": []
   },
   "outputs": [],
   "source": [
    "import numpy as np\n",
    "import pandas as pd\n",
    "from sklearn.preprocessing import StandardScaler\n",
    "from sklearn.model_selection import train_test_split\n",
    "from sklearn import svm\n",
    "from sklearn.metrics import accuracy_score\n"
   ]
  },
  {
   "cell_type": "markdown",
   "id": "20cd3601",
   "metadata": {
    "papermill": {
     "duration": 0.009304,
     "end_time": "2022-07-29T13:54:03.885553",
     "exception": false,
     "start_time": "2022-07-29T13:54:03.876249",
     "status": "completed"
    },
    "tags": []
   },
   "source": [
    "Data Collection and Analysis"
   ]
  },
  {
   "cell_type": "code",
   "execution_count": 3,
   "id": "e030cad2",
   "metadata": {
    "execution": {
     "iopub.execute_input": "2022-07-29T13:54:03.905654Z",
     "iopub.status.busy": "2022-07-29T13:54:03.905271Z",
     "iopub.status.idle": "2022-07-29T13:54:03.922771Z",
     "shell.execute_reply": "2022-07-29T13:54:03.921840Z"
    },
    "papermill": {
     "duration": 0.030584,
     "end_time": "2022-07-29T13:54:03.925424",
     "exception": false,
     "start_time": "2022-07-29T13:54:03.894840",
     "status": "completed"
    },
    "tags": []
   },
   "outputs": [],
   "source": [
    "#loading the diabetes dataset to a pandas dataframe\n",
    "diabetes_dataset=pd.read_csv('../input/docspot/datasets_228_482_diabetes.csv')\n"
   ]
  },
  {
   "cell_type": "code",
   "execution_count": 4,
   "id": "6ca9b053",
   "metadata": {
    "execution": {
     "iopub.execute_input": "2022-07-29T13:54:03.946170Z",
     "iopub.status.busy": "2022-07-29T13:54:03.945706Z",
     "iopub.status.idle": "2022-07-29T13:54:03.969782Z",
     "shell.execute_reply": "2022-07-29T13:54:03.968662Z"
    },
    "papermill": {
     "duration": 0.03753,
     "end_time": "2022-07-29T13:54:03.972369",
     "exception": false,
     "start_time": "2022-07-29T13:54:03.934839",
     "status": "completed"
    },
    "tags": []
   },
   "outputs": [
    {
     "data": {
      "text/html": [
       "<div>\n",
       "<style scoped>\n",
       "    .dataframe tbody tr th:only-of-type {\n",
       "        vertical-align: middle;\n",
       "    }\n",
       "\n",
       "    .dataframe tbody tr th {\n",
       "        vertical-align: top;\n",
       "    }\n",
       "\n",
       "    .dataframe thead th {\n",
       "        text-align: right;\n",
       "    }\n",
       "</style>\n",
       "<table border=\"1\" class=\"dataframe\">\n",
       "  <thead>\n",
       "    <tr style=\"text-align: right;\">\n",
       "      <th></th>\n",
       "      <th>Pregnancies</th>\n",
       "      <th>Glucose</th>\n",
       "      <th>BloodPressure</th>\n",
       "      <th>SkinThickness</th>\n",
       "      <th>Insulin</th>\n",
       "      <th>BMI</th>\n",
       "      <th>DiabetesPedigreeFunction</th>\n",
       "      <th>Age</th>\n",
       "      <th>Outcome</th>\n",
       "    </tr>\n",
       "  </thead>\n",
       "  <tbody>\n",
       "    <tr>\n",
       "      <th>0</th>\n",
       "      <td>6</td>\n",
       "      <td>148</td>\n",
       "      <td>72</td>\n",
       "      <td>35</td>\n",
       "      <td>0</td>\n",
       "      <td>33.6</td>\n",
       "      <td>0.627</td>\n",
       "      <td>50</td>\n",
       "      <td>1</td>\n",
       "    </tr>\n",
       "    <tr>\n",
       "      <th>1</th>\n",
       "      <td>1</td>\n",
       "      <td>85</td>\n",
       "      <td>66</td>\n",
       "      <td>29</td>\n",
       "      <td>0</td>\n",
       "      <td>26.6</td>\n",
       "      <td>0.351</td>\n",
       "      <td>31</td>\n",
       "      <td>0</td>\n",
       "    </tr>\n",
       "    <tr>\n",
       "      <th>2</th>\n",
       "      <td>8</td>\n",
       "      <td>183</td>\n",
       "      <td>64</td>\n",
       "      <td>0</td>\n",
       "      <td>0</td>\n",
       "      <td>23.3</td>\n",
       "      <td>0.672</td>\n",
       "      <td>32</td>\n",
       "      <td>1</td>\n",
       "    </tr>\n",
       "    <tr>\n",
       "      <th>3</th>\n",
       "      <td>1</td>\n",
       "      <td>89</td>\n",
       "      <td>66</td>\n",
       "      <td>23</td>\n",
       "      <td>94</td>\n",
       "      <td>28.1</td>\n",
       "      <td>0.167</td>\n",
       "      <td>21</td>\n",
       "      <td>0</td>\n",
       "    </tr>\n",
       "    <tr>\n",
       "      <th>4</th>\n",
       "      <td>0</td>\n",
       "      <td>137</td>\n",
       "      <td>40</td>\n",
       "      <td>35</td>\n",
       "      <td>168</td>\n",
       "      <td>43.1</td>\n",
       "      <td>2.288</td>\n",
       "      <td>33</td>\n",
       "      <td>1</td>\n",
       "    </tr>\n",
       "  </tbody>\n",
       "</table>\n",
       "</div>"
      ],
      "text/plain": [
       "   Pregnancies  Glucose  BloodPressure  SkinThickness  Insulin   BMI  \\\n",
       "0            6      148             72             35        0  33.6   \n",
       "1            1       85             66             29        0  26.6   \n",
       "2            8      183             64              0        0  23.3   \n",
       "3            1       89             66             23       94  28.1   \n",
       "4            0      137             40             35      168  43.1   \n",
       "\n",
       "   DiabetesPedigreeFunction  Age  Outcome  \n",
       "0                     0.627   50        1  \n",
       "1                     0.351   31        0  \n",
       "2                     0.672   32        1  \n",
       "3                     0.167   21        0  \n",
       "4                     2.288   33        1  "
      ]
     },
     "execution_count": 4,
     "metadata": {},
     "output_type": "execute_result"
    }
   ],
   "source": [
    "#printing the first 5 rows of the dataset\n",
    "diabetes_dataset.head()"
   ]
  },
  {
   "cell_type": "code",
   "execution_count": 5,
   "id": "3bc09578",
   "metadata": {
    "execution": {
     "iopub.execute_input": "2022-07-29T13:54:03.993255Z",
     "iopub.status.busy": "2022-07-29T13:54:03.992568Z",
     "iopub.status.idle": "2022-07-29T13:54:03.999127Z",
     "shell.execute_reply": "2022-07-29T13:54:03.998285Z"
    },
    "papermill": {
     "duration": 0.019555,
     "end_time": "2022-07-29T13:54:04.001306",
     "exception": false,
     "start_time": "2022-07-29T13:54:03.981751",
     "status": "completed"
    },
    "tags": []
   },
   "outputs": [
    {
     "data": {
      "text/plain": [
       "(768, 9)"
      ]
     },
     "execution_count": 5,
     "metadata": {},
     "output_type": "execute_result"
    }
   ],
   "source": [
    "#number of rows and columns in this dataset\n",
    "diabetes_dataset.shape"
   ]
  },
  {
   "cell_type": "code",
   "execution_count": 6,
   "id": "fad4e4af",
   "metadata": {
    "_kg_hide-output": true,
    "execution": {
     "iopub.execute_input": "2022-07-29T13:54:04.023072Z",
     "iopub.status.busy": "2022-07-29T13:54:04.021951Z",
     "iopub.status.idle": "2022-07-29T13:54:04.071138Z",
     "shell.execute_reply": "2022-07-29T13:54:04.070016Z"
    },
    "papermill": {
     "duration": 0.062612,
     "end_time": "2022-07-29T13:54:04.073591",
     "exception": false,
     "start_time": "2022-07-29T13:54:04.010979",
     "status": "completed"
    },
    "tags": []
   },
   "outputs": [
    {
     "data": {
      "text/html": [
       "<div>\n",
       "<style scoped>\n",
       "    .dataframe tbody tr th:only-of-type {\n",
       "        vertical-align: middle;\n",
       "    }\n",
       "\n",
       "    .dataframe tbody tr th {\n",
       "        vertical-align: top;\n",
       "    }\n",
       "\n",
       "    .dataframe thead th {\n",
       "        text-align: right;\n",
       "    }\n",
       "</style>\n",
       "<table border=\"1\" class=\"dataframe\">\n",
       "  <thead>\n",
       "    <tr style=\"text-align: right;\">\n",
       "      <th></th>\n",
       "      <th>Pregnancies</th>\n",
       "      <th>Glucose</th>\n",
       "      <th>BloodPressure</th>\n",
       "      <th>SkinThickness</th>\n",
       "      <th>Insulin</th>\n",
       "      <th>BMI</th>\n",
       "      <th>DiabetesPedigreeFunction</th>\n",
       "      <th>Age</th>\n",
       "      <th>Outcome</th>\n",
       "    </tr>\n",
       "  </thead>\n",
       "  <tbody>\n",
       "    <tr>\n",
       "      <th>count</th>\n",
       "      <td>768.000000</td>\n",
       "      <td>768.000000</td>\n",
       "      <td>768.000000</td>\n",
       "      <td>768.000000</td>\n",
       "      <td>768.000000</td>\n",
       "      <td>768.000000</td>\n",
       "      <td>768.000000</td>\n",
       "      <td>768.000000</td>\n",
       "      <td>768.000000</td>\n",
       "    </tr>\n",
       "    <tr>\n",
       "      <th>mean</th>\n",
       "      <td>3.845052</td>\n",
       "      <td>120.894531</td>\n",
       "      <td>69.105469</td>\n",
       "      <td>20.536458</td>\n",
       "      <td>79.799479</td>\n",
       "      <td>31.992578</td>\n",
       "      <td>0.471876</td>\n",
       "      <td>33.240885</td>\n",
       "      <td>0.348958</td>\n",
       "    </tr>\n",
       "    <tr>\n",
       "      <th>std</th>\n",
       "      <td>3.369578</td>\n",
       "      <td>31.972618</td>\n",
       "      <td>19.355807</td>\n",
       "      <td>15.952218</td>\n",
       "      <td>115.244002</td>\n",
       "      <td>7.884160</td>\n",
       "      <td>0.331329</td>\n",
       "      <td>11.760232</td>\n",
       "      <td>0.476951</td>\n",
       "    </tr>\n",
       "    <tr>\n",
       "      <th>min</th>\n",
       "      <td>0.000000</td>\n",
       "      <td>0.000000</td>\n",
       "      <td>0.000000</td>\n",
       "      <td>0.000000</td>\n",
       "      <td>0.000000</td>\n",
       "      <td>0.000000</td>\n",
       "      <td>0.078000</td>\n",
       "      <td>21.000000</td>\n",
       "      <td>0.000000</td>\n",
       "    </tr>\n",
       "    <tr>\n",
       "      <th>25%</th>\n",
       "      <td>1.000000</td>\n",
       "      <td>99.000000</td>\n",
       "      <td>62.000000</td>\n",
       "      <td>0.000000</td>\n",
       "      <td>0.000000</td>\n",
       "      <td>27.300000</td>\n",
       "      <td>0.243750</td>\n",
       "      <td>24.000000</td>\n",
       "      <td>0.000000</td>\n",
       "    </tr>\n",
       "    <tr>\n",
       "      <th>50%</th>\n",
       "      <td>3.000000</td>\n",
       "      <td>117.000000</td>\n",
       "      <td>72.000000</td>\n",
       "      <td>23.000000</td>\n",
       "      <td>30.500000</td>\n",
       "      <td>32.000000</td>\n",
       "      <td>0.372500</td>\n",
       "      <td>29.000000</td>\n",
       "      <td>0.000000</td>\n",
       "    </tr>\n",
       "    <tr>\n",
       "      <th>75%</th>\n",
       "      <td>6.000000</td>\n",
       "      <td>140.250000</td>\n",
       "      <td>80.000000</td>\n",
       "      <td>32.000000</td>\n",
       "      <td>127.250000</td>\n",
       "      <td>36.600000</td>\n",
       "      <td>0.626250</td>\n",
       "      <td>41.000000</td>\n",
       "      <td>1.000000</td>\n",
       "    </tr>\n",
       "    <tr>\n",
       "      <th>max</th>\n",
       "      <td>17.000000</td>\n",
       "      <td>199.000000</td>\n",
       "      <td>122.000000</td>\n",
       "      <td>99.000000</td>\n",
       "      <td>846.000000</td>\n",
       "      <td>67.100000</td>\n",
       "      <td>2.420000</td>\n",
       "      <td>81.000000</td>\n",
       "      <td>1.000000</td>\n",
       "    </tr>\n",
       "  </tbody>\n",
       "</table>\n",
       "</div>"
      ],
      "text/plain": [
       "       Pregnancies     Glucose  BloodPressure  SkinThickness     Insulin  \\\n",
       "count   768.000000  768.000000     768.000000     768.000000  768.000000   \n",
       "mean      3.845052  120.894531      69.105469      20.536458   79.799479   \n",
       "std       3.369578   31.972618      19.355807      15.952218  115.244002   \n",
       "min       0.000000    0.000000       0.000000       0.000000    0.000000   \n",
       "25%       1.000000   99.000000      62.000000       0.000000    0.000000   \n",
       "50%       3.000000  117.000000      72.000000      23.000000   30.500000   \n",
       "75%       6.000000  140.250000      80.000000      32.000000  127.250000   \n",
       "max      17.000000  199.000000     122.000000      99.000000  846.000000   \n",
       "\n",
       "              BMI  DiabetesPedigreeFunction         Age     Outcome  \n",
       "count  768.000000                768.000000  768.000000  768.000000  \n",
       "mean    31.992578                  0.471876   33.240885    0.348958  \n",
       "std      7.884160                  0.331329   11.760232    0.476951  \n",
       "min      0.000000                  0.078000   21.000000    0.000000  \n",
       "25%     27.300000                  0.243750   24.000000    0.000000  \n",
       "50%     32.000000                  0.372500   29.000000    0.000000  \n",
       "75%     36.600000                  0.626250   41.000000    1.000000  \n",
       "max     67.100000                  2.420000   81.000000    1.000000  "
      ]
     },
     "execution_count": 6,
     "metadata": {},
     "output_type": "execute_result"
    }
   ],
   "source": [
    "#getting the statistical measures of the data\n",
    "diabetes_dataset.describe()"
   ]
  },
  {
   "cell_type": "code",
   "execution_count": 7,
   "id": "29bb73b1",
   "metadata": {
    "execution": {
     "iopub.execute_input": "2022-07-29T13:54:04.095861Z",
     "iopub.status.busy": "2022-07-29T13:54:04.095485Z",
     "iopub.status.idle": "2022-07-29T13:54:04.104074Z",
     "shell.execute_reply": "2022-07-29T13:54:04.102942Z"
    },
    "papermill": {
     "duration": 0.022303,
     "end_time": "2022-07-29T13:54:04.106493",
     "exception": false,
     "start_time": "2022-07-29T13:54:04.084190",
     "status": "completed"
    },
    "tags": []
   },
   "outputs": [
    {
     "data": {
      "text/plain": [
       "0    500\n",
       "1    268\n",
       "Name: Outcome, dtype: int64"
      ]
     },
     "execution_count": 7,
     "metadata": {},
     "output_type": "execute_result"
    }
   ],
   "source": [
    "diabetes_dataset['Outcome'].value_counts()"
   ]
  },
  {
   "cell_type": "markdown",
   "id": "7434c231",
   "metadata": {
    "papermill": {
     "duration": 0.009715,
     "end_time": "2022-07-29T13:54:04.125933",
     "exception": false,
     "start_time": "2022-07-29T13:54:04.116218",
     "status": "completed"
    },
    "tags": []
   },
   "source": [
    "0----Non Diabetic\n",
    "1----Diabetic"
   ]
  },
  {
   "cell_type": "code",
   "execution_count": 8,
   "id": "5ef152cc",
   "metadata": {
    "execution": {
     "iopub.execute_input": "2022-07-29T13:54:04.147422Z",
     "iopub.status.busy": "2022-07-29T13:54:04.146665Z",
     "iopub.status.idle": "2022-07-29T13:54:04.164421Z",
     "shell.execute_reply": "2022-07-29T13:54:04.163344Z"
    },
    "papermill": {
     "duration": 0.032035,
     "end_time": "2022-07-29T13:54:04.167564",
     "exception": false,
     "start_time": "2022-07-29T13:54:04.135529",
     "status": "completed"
    },
    "tags": []
   },
   "outputs": [
    {
     "data": {
      "text/html": [
       "<div>\n",
       "<style scoped>\n",
       "    .dataframe tbody tr th:only-of-type {\n",
       "        vertical-align: middle;\n",
       "    }\n",
       "\n",
       "    .dataframe tbody tr th {\n",
       "        vertical-align: top;\n",
       "    }\n",
       "\n",
       "    .dataframe thead th {\n",
       "        text-align: right;\n",
       "    }\n",
       "</style>\n",
       "<table border=\"1\" class=\"dataframe\">\n",
       "  <thead>\n",
       "    <tr style=\"text-align: right;\">\n",
       "      <th></th>\n",
       "      <th>Pregnancies</th>\n",
       "      <th>Glucose</th>\n",
       "      <th>BloodPressure</th>\n",
       "      <th>SkinThickness</th>\n",
       "      <th>Insulin</th>\n",
       "      <th>BMI</th>\n",
       "      <th>DiabetesPedigreeFunction</th>\n",
       "      <th>Age</th>\n",
       "    </tr>\n",
       "    <tr>\n",
       "      <th>Outcome</th>\n",
       "      <th></th>\n",
       "      <th></th>\n",
       "      <th></th>\n",
       "      <th></th>\n",
       "      <th></th>\n",
       "      <th></th>\n",
       "      <th></th>\n",
       "      <th></th>\n",
       "    </tr>\n",
       "  </thead>\n",
       "  <tbody>\n",
       "    <tr>\n",
       "      <th>0</th>\n",
       "      <td>3.298000</td>\n",
       "      <td>109.980000</td>\n",
       "      <td>68.184000</td>\n",
       "      <td>19.664000</td>\n",
       "      <td>68.792000</td>\n",
       "      <td>30.304200</td>\n",
       "      <td>0.429734</td>\n",
       "      <td>31.190000</td>\n",
       "    </tr>\n",
       "    <tr>\n",
       "      <th>1</th>\n",
       "      <td>4.865672</td>\n",
       "      <td>141.257463</td>\n",
       "      <td>70.824627</td>\n",
       "      <td>22.164179</td>\n",
       "      <td>100.335821</td>\n",
       "      <td>35.142537</td>\n",
       "      <td>0.550500</td>\n",
       "      <td>37.067164</td>\n",
       "    </tr>\n",
       "  </tbody>\n",
       "</table>\n",
       "</div>"
      ],
      "text/plain": [
       "         Pregnancies     Glucose  BloodPressure  SkinThickness     Insulin  \\\n",
       "Outcome                                                                      \n",
       "0           3.298000  109.980000      68.184000      19.664000   68.792000   \n",
       "1           4.865672  141.257463      70.824627      22.164179  100.335821   \n",
       "\n",
       "               BMI  DiabetesPedigreeFunction        Age  \n",
       "Outcome                                                  \n",
       "0        30.304200                  0.429734  31.190000  \n",
       "1        35.142537                  0.550500  37.067164  "
      ]
     },
     "execution_count": 8,
     "metadata": {},
     "output_type": "execute_result"
    }
   ],
   "source": [
    "diabetes_dataset.groupby('Outcome').mean()"
   ]
  },
  {
   "cell_type": "code",
   "execution_count": 9,
   "id": "2e0a8588",
   "metadata": {
    "execution": {
     "iopub.execute_input": "2022-07-29T13:54:04.190067Z",
     "iopub.status.busy": "2022-07-29T13:54:04.189657Z",
     "iopub.status.idle": "2022-07-29T13:54:04.195359Z",
     "shell.execute_reply": "2022-07-29T13:54:04.194564Z"
    },
    "papermill": {
     "duration": 0.018964,
     "end_time": "2022-07-29T13:54:04.197324",
     "exception": false,
     "start_time": "2022-07-29T13:54:04.178360",
     "status": "completed"
    },
    "tags": []
   },
   "outputs": [],
   "source": [
    "#seperating data and labels\n",
    "X=diabetes_dataset.drop(columns='Outcome',axis=1)\n",
    "Y= diabetes_dataset['Outcome']"
   ]
  },
  {
   "cell_type": "markdown",
   "id": "5a856fed",
   "metadata": {
    "papermill": {
     "duration": 0.010388,
     "end_time": "2022-07-29T13:54:04.217822",
     "exception": false,
     "start_time": "2022-07-29T13:54:04.207434",
     "status": "completed"
    },
    "tags": []
   },
   "source": []
  },
  {
   "cell_type": "code",
   "execution_count": 10,
   "id": "dd0626a6",
   "metadata": {
    "execution": {
     "iopub.execute_input": "2022-07-29T13:54:04.240310Z",
     "iopub.status.busy": "2022-07-29T13:54:04.239609Z",
     "iopub.status.idle": "2022-07-29T13:54:04.250605Z",
     "shell.execute_reply": "2022-07-29T13:54:04.249193Z"
    },
    "papermill": {
     "duration": 0.025021,
     "end_time": "2022-07-29T13:54:04.253081",
     "exception": false,
     "start_time": "2022-07-29T13:54:04.228060",
     "status": "completed"
    },
    "tags": []
   },
   "outputs": [
    {
     "name": "stdout",
     "output_type": "stream",
     "text": [
      "     Pregnancies  Glucose  BloodPressure  SkinThickness  Insulin   BMI  \\\n",
      "0              6      148             72             35        0  33.6   \n",
      "1              1       85             66             29        0  26.6   \n",
      "2              8      183             64              0        0  23.3   \n",
      "3              1       89             66             23       94  28.1   \n",
      "4              0      137             40             35      168  43.1   \n",
      "..           ...      ...            ...            ...      ...   ...   \n",
      "763           10      101             76             48      180  32.9   \n",
      "764            2      122             70             27        0  36.8   \n",
      "765            5      121             72             23      112  26.2   \n",
      "766            1      126             60              0        0  30.1   \n",
      "767            1       93             70             31        0  30.4   \n",
      "\n",
      "     DiabetesPedigreeFunction  Age  \n",
      "0                       0.627   50  \n",
      "1                       0.351   31  \n",
      "2                       0.672   32  \n",
      "3                       0.167   21  \n",
      "4                       2.288   33  \n",
      "..                        ...  ...  \n",
      "763                     0.171   63  \n",
      "764                     0.340   27  \n",
      "765                     0.245   30  \n",
      "766                     0.349   47  \n",
      "767                     0.315   23  \n",
      "\n",
      "[768 rows x 8 columns]\n"
     ]
    }
   ],
   "source": [
    "print(X)"
   ]
  },
  {
   "cell_type": "code",
   "execution_count": 11,
   "id": "11720bca",
   "metadata": {
    "execution": {
     "iopub.execute_input": "2022-07-29T13:54:04.276558Z",
     "iopub.status.busy": "2022-07-29T13:54:04.275840Z",
     "iopub.status.idle": "2022-07-29T13:54:04.282270Z",
     "shell.execute_reply": "2022-07-29T13:54:04.280810Z"
    },
    "papermill": {
     "duration": 0.020995,
     "end_time": "2022-07-29T13:54:04.284758",
     "exception": false,
     "start_time": "2022-07-29T13:54:04.263763",
     "status": "completed"
    },
    "tags": []
   },
   "outputs": [
    {
     "name": "stdout",
     "output_type": "stream",
     "text": [
      "0      1\n",
      "1      0\n",
      "2      1\n",
      "3      0\n",
      "4      1\n",
      "      ..\n",
      "763    0\n",
      "764    0\n",
      "765    0\n",
      "766    1\n",
      "767    0\n",
      "Name: Outcome, Length: 768, dtype: int64\n"
     ]
    }
   ],
   "source": [
    "print(Y)"
   ]
  },
  {
   "cell_type": "markdown",
   "id": "80ae1d11",
   "metadata": {
    "papermill": {
     "duration": 0.01003,
     "end_time": "2022-07-29T13:54:04.305322",
     "exception": false,
     "start_time": "2022-07-29T13:54:04.295292",
     "status": "completed"
    },
    "tags": []
   },
   "source": [
    "Data Standarization"
   ]
  },
  {
   "cell_type": "code",
   "execution_count": 12,
   "id": "a14db509",
   "metadata": {
    "execution": {
     "iopub.execute_input": "2022-07-29T13:54:04.328382Z",
     "iopub.status.busy": "2022-07-29T13:54:04.328019Z",
     "iopub.status.idle": "2022-07-29T13:54:04.331960Z",
     "shell.execute_reply": "2022-07-29T13:54:04.331170Z"
    },
    "papermill": {
     "duration": 0.017918,
     "end_time": "2022-07-29T13:54:04.334093",
     "exception": false,
     "start_time": "2022-07-29T13:54:04.316175",
     "status": "completed"
    },
    "tags": []
   },
   "outputs": [],
   "source": [
    "scaler=StandardScaler()"
   ]
  },
  {
   "cell_type": "code",
   "execution_count": 13,
   "id": "d95d533b",
   "metadata": {
    "execution": {
     "iopub.execute_input": "2022-07-29T13:54:04.357511Z",
     "iopub.status.busy": "2022-07-29T13:54:04.356587Z",
     "iopub.status.idle": "2022-07-29T13:54:04.366727Z",
     "shell.execute_reply": "2022-07-29T13:54:04.365941Z"
    },
    "papermill": {
     "duration": 0.02419,
     "end_time": "2022-07-29T13:54:04.368719",
     "exception": false,
     "start_time": "2022-07-29T13:54:04.344529",
     "status": "completed"
    },
    "tags": []
   },
   "outputs": [
    {
     "data": {
      "text/plain": [
       "StandardScaler()"
      ]
     },
     "execution_count": 13,
     "metadata": {},
     "output_type": "execute_result"
    }
   ],
   "source": [
    "scaler.fit(X)"
   ]
  },
  {
   "cell_type": "code",
   "execution_count": 14,
   "id": "befb37ea",
   "metadata": {
    "execution": {
     "iopub.execute_input": "2022-07-29T13:54:04.391962Z",
     "iopub.status.busy": "2022-07-29T13:54:04.391010Z",
     "iopub.status.idle": "2022-07-29T13:54:04.397742Z",
     "shell.execute_reply": "2022-07-29T13:54:04.396953Z"
    },
    "papermill": {
     "duration": 0.02066,
     "end_time": "2022-07-29T13:54:04.399948",
     "exception": false,
     "start_time": "2022-07-29T13:54:04.379288",
     "status": "completed"
    },
    "tags": []
   },
   "outputs": [],
   "source": [
    "standardized_data=scaler.transform(X)"
   ]
  },
  {
   "cell_type": "code",
   "execution_count": 15,
   "id": "f437e752",
   "metadata": {
    "execution": {
     "iopub.execute_input": "2022-07-29T13:54:04.422933Z",
     "iopub.status.busy": "2022-07-29T13:54:04.422508Z",
     "iopub.status.idle": "2022-07-29T13:54:04.428509Z",
     "shell.execute_reply": "2022-07-29T13:54:04.427442Z"
    },
    "papermill": {
     "duration": 0.020476,
     "end_time": "2022-07-29T13:54:04.431046",
     "exception": false,
     "start_time": "2022-07-29T13:54:04.410570",
     "status": "completed"
    },
    "tags": []
   },
   "outputs": [
    {
     "name": "stdout",
     "output_type": "stream",
     "text": [
      "[[ 0.63994726  0.84832379  0.14964075 ...  0.20401277  0.46849198\n",
      "   1.4259954 ]\n",
      " [-0.84488505 -1.12339636 -0.16054575 ... -0.68442195 -0.36506078\n",
      "  -0.19067191]\n",
      " [ 1.23388019  1.94372388 -0.26394125 ... -1.10325546  0.60439732\n",
      "  -0.10558415]\n",
      " ...\n",
      " [ 0.3429808   0.00330087  0.14964075 ... -0.73518964 -0.68519336\n",
      "  -0.27575966]\n",
      " [-0.84488505  0.1597866  -0.47073225 ... -0.24020459 -0.37110101\n",
      "   1.17073215]\n",
      " [-0.84488505 -0.8730192   0.04624525 ... -0.20212881 -0.47378505\n",
      "  -0.87137393]]\n"
     ]
    }
   ],
   "source": [
    "print(standardized_data)"
   ]
  },
  {
   "cell_type": "code",
   "execution_count": 16,
   "id": "cf2aba12",
   "metadata": {
    "execution": {
     "iopub.execute_input": "2022-07-29T13:54:04.455043Z",
     "iopub.status.busy": "2022-07-29T13:54:04.454371Z",
     "iopub.status.idle": "2022-07-29T13:54:04.460493Z",
     "shell.execute_reply": "2022-07-29T13:54:04.459701Z"
    },
    "papermill": {
     "duration": 0.02101,
     "end_time": "2022-07-29T13:54:04.463203",
     "exception": false,
     "start_time": "2022-07-29T13:54:04.442193",
     "status": "completed"
    },
    "tags": []
   },
   "outputs": [],
   "source": [
    "X=standardized_data\n",
    "Y=diabetes_dataset['Outcome']"
   ]
  },
  {
   "cell_type": "code",
   "execution_count": 17,
   "id": "85dd4404",
   "metadata": {
    "execution": {
     "iopub.execute_input": "2022-07-29T13:54:04.488179Z",
     "iopub.status.busy": "2022-07-29T13:54:04.487767Z",
     "iopub.status.idle": "2022-07-29T13:54:04.496138Z",
     "shell.execute_reply": "2022-07-29T13:54:04.494777Z"
    },
    "papermill": {
     "duration": 0.025476,
     "end_time": "2022-07-29T13:54:04.499111",
     "exception": false,
     "start_time": "2022-07-29T13:54:04.473635",
     "status": "completed"
    },
    "tags": []
   },
   "outputs": [
    {
     "name": "stdout",
     "output_type": "stream",
     "text": [
      "[[ 0.63994726  0.84832379  0.14964075 ...  0.20401277  0.46849198\n",
      "   1.4259954 ]\n",
      " [-0.84488505 -1.12339636 -0.16054575 ... -0.68442195 -0.36506078\n",
      "  -0.19067191]\n",
      " [ 1.23388019  1.94372388 -0.26394125 ... -1.10325546  0.60439732\n",
      "  -0.10558415]\n",
      " ...\n",
      " [ 0.3429808   0.00330087  0.14964075 ... -0.73518964 -0.68519336\n",
      "  -0.27575966]\n",
      " [-0.84488505  0.1597866  -0.47073225 ... -0.24020459 -0.37110101\n",
      "   1.17073215]\n",
      " [-0.84488505 -0.8730192   0.04624525 ... -0.20212881 -0.47378505\n",
      "  -0.87137393]]\n",
      "0      1\n",
      "1      0\n",
      "2      1\n",
      "3      0\n",
      "4      1\n",
      "      ..\n",
      "763    0\n",
      "764    0\n",
      "765    0\n",
      "766    1\n",
      "767    0\n",
      "Name: Outcome, Length: 768, dtype: int64\n"
     ]
    }
   ],
   "source": [
    "print(X)\n",
    "print(Y)"
   ]
  },
  {
   "cell_type": "markdown",
   "id": "d65f6aaa",
   "metadata": {
    "papermill": {
     "duration": 0.010646,
     "end_time": "2022-07-29T13:54:04.520973",
     "exception": false,
     "start_time": "2022-07-29T13:54:04.510327",
     "status": "completed"
    },
    "tags": []
   },
   "source": [
    "Train Test Split"
   ]
  },
  {
   "cell_type": "code",
   "execution_count": 18,
   "id": "bc9a49ae",
   "metadata": {
    "execution": {
     "iopub.execute_input": "2022-07-29T13:54:04.544622Z",
     "iopub.status.busy": "2022-07-29T13:54:04.543910Z",
     "iopub.status.idle": "2022-07-29T13:54:04.554455Z",
     "shell.execute_reply": "2022-07-29T13:54:04.553008Z"
    },
    "papermill": {
     "duration": 0.025272,
     "end_time": "2022-07-29T13:54:04.557035",
     "exception": false,
     "start_time": "2022-07-29T13:54:04.531763",
     "status": "completed"
    },
    "tags": []
   },
   "outputs": [],
   "source": [
    "X_train, X_test, Y_train, Y_test= train_test_split(X,Y, test_size=0.2, stratify=Y, random_state=2)"
   ]
  },
  {
   "cell_type": "code",
   "execution_count": 19,
   "id": "f3d76276",
   "metadata": {
    "execution": {
     "iopub.execute_input": "2022-07-29T13:54:04.581575Z",
     "iopub.status.busy": "2022-07-29T13:54:04.580905Z",
     "iopub.status.idle": "2022-07-29T13:54:04.587409Z",
     "shell.execute_reply": "2022-07-29T13:54:04.586365Z"
    },
    "papermill": {
     "duration": 0.021499,
     "end_time": "2022-07-29T13:54:04.589657",
     "exception": false,
     "start_time": "2022-07-29T13:54:04.568158",
     "status": "completed"
    },
    "tags": []
   },
   "outputs": [
    {
     "name": "stdout",
     "output_type": "stream",
     "text": [
      "(768, 8) (614, 8) (154, 8)\n"
     ]
    }
   ],
   "source": [
    "print(X.shape, X_train.shape, X_test.shape)"
   ]
  },
  {
   "cell_type": "markdown",
   "id": "dd4e12e1",
   "metadata": {
    "papermill": {
     "duration": 0.010471,
     "end_time": "2022-07-29T13:54:04.610956",
     "exception": false,
     "start_time": "2022-07-29T13:54:04.600485",
     "status": "completed"
    },
    "tags": []
   },
   "source": [
    "Training the model"
   ]
  },
  {
   "cell_type": "code",
   "execution_count": 20,
   "id": "ebb3d539",
   "metadata": {
    "execution": {
     "iopub.execute_input": "2022-07-29T13:54:04.634838Z",
     "iopub.status.busy": "2022-07-29T13:54:04.633603Z",
     "iopub.status.idle": "2022-07-29T13:54:04.638516Z",
     "shell.execute_reply": "2022-07-29T13:54:04.637742Z"
    },
    "papermill": {
     "duration": 0.018859,
     "end_time": "2022-07-29T13:54:04.640568",
     "exception": false,
     "start_time": "2022-07-29T13:54:04.621709",
     "status": "completed"
    },
    "tags": []
   },
   "outputs": [],
   "source": [
    "classifier=svm.SVC(kernel='linear')"
   ]
  },
  {
   "cell_type": "code",
   "execution_count": 21,
   "id": "ebbdd604",
   "metadata": {
    "execution": {
     "iopub.execute_input": "2022-07-29T13:54:04.664680Z",
     "iopub.status.busy": "2022-07-29T13:54:04.663949Z",
     "iopub.status.idle": "2022-07-29T13:54:04.684782Z",
     "shell.execute_reply": "2022-07-29T13:54:04.683910Z"
    },
    "papermill": {
     "duration": 0.03516,
     "end_time": "2022-07-29T13:54:04.686911",
     "exception": false,
     "start_time": "2022-07-29T13:54:04.651751",
     "status": "completed"
    },
    "tags": []
   },
   "outputs": [
    {
     "data": {
      "text/plain": [
       "SVC(kernel='linear')"
      ]
     },
     "execution_count": 21,
     "metadata": {},
     "output_type": "execute_result"
    }
   ],
   "source": [
    "#training the support vector machine classifier\n",
    "classifier.fit(X_train,Y_train)"
   ]
  },
  {
   "cell_type": "markdown",
   "id": "fdd6fe20",
   "metadata": {
    "papermill": {
     "duration": 0.010502,
     "end_time": "2022-07-29T13:54:04.708322",
     "exception": false,
     "start_time": "2022-07-29T13:54:04.697820",
     "status": "completed"
    },
    "tags": []
   },
   "source": [
    "Evaluating the model."
   ]
  },
  {
   "cell_type": "markdown",
   "id": "ba39c6c0",
   "metadata": {
    "papermill": {
     "duration": 0.01076,
     "end_time": "2022-07-29T13:54:04.730725",
     "exception": false,
     "start_time": "2022-07-29T13:54:04.719965",
     "status": "completed"
    },
    "tags": []
   },
   "source": [
    "Accuracy Score"
   ]
  },
  {
   "cell_type": "code",
   "execution_count": 22,
   "id": "5ccce9e1",
   "metadata": {
    "execution": {
     "iopub.execute_input": "2022-07-29T13:54:04.754790Z",
     "iopub.status.busy": "2022-07-29T13:54:04.754091Z",
     "iopub.status.idle": "2022-07-29T13:54:04.765430Z",
     "shell.execute_reply": "2022-07-29T13:54:04.764593Z"
    },
    "papermill": {
     "duration": 0.025921,
     "end_time": "2022-07-29T13:54:04.767761",
     "exception": false,
     "start_time": "2022-07-29T13:54:04.741840",
     "status": "completed"
    },
    "tags": []
   },
   "outputs": [],
   "source": [
    "#accuracy score on the training data\n",
    "X_train_prediction=classifier.predict(X_train)\n",
    "training_data_accuracy=accuracy_score(X_train_prediction, Y_train)"
   ]
  },
  {
   "cell_type": "code",
   "execution_count": 23,
   "id": "99fc44ab",
   "metadata": {
    "execution": {
     "iopub.execute_input": "2022-07-29T13:54:04.791631Z",
     "iopub.status.busy": "2022-07-29T13:54:04.790924Z",
     "iopub.status.idle": "2022-07-29T13:54:04.796568Z",
     "shell.execute_reply": "2022-07-29T13:54:04.795060Z"
    },
    "papermill": {
     "duration": 0.021132,
     "end_time": "2022-07-29T13:54:04.799749",
     "exception": false,
     "start_time": "2022-07-29T13:54:04.778617",
     "status": "completed"
    },
    "tags": []
   },
   "outputs": [
    {
     "name": "stdout",
     "output_type": "stream",
     "text": [
      "Accuracy score of the training data: 0.7866449511400652\n"
     ]
    }
   ],
   "source": [
    "print('Accuracy score of the training data:',training_data_accuracy)"
   ]
  },
  {
   "cell_type": "code",
   "execution_count": 24,
   "id": "314da037",
   "metadata": {
    "execution": {
     "iopub.execute_input": "2022-07-29T13:54:04.824004Z",
     "iopub.status.busy": "2022-07-29T13:54:04.823092Z",
     "iopub.status.idle": "2022-07-29T13:54:04.830775Z",
     "shell.execute_reply": "2022-07-29T13:54:04.829855Z"
    },
    "papermill": {
     "duration": 0.022459,
     "end_time": "2022-07-29T13:54:04.833277",
     "exception": false,
     "start_time": "2022-07-29T13:54:04.810818",
     "status": "completed"
    },
    "tags": []
   },
   "outputs": [],
   "source": [
    "#accuracy score on the testing data\n",
    "X_test_prediction=classifier.predict(X_test)\n",
    "test_data_accuracy=accuracy_score(X_test_prediction, Y_test)"
   ]
  },
  {
   "cell_type": "code",
   "execution_count": 25,
   "id": "dde59e2c",
   "metadata": {
    "execution": {
     "iopub.execute_input": "2022-07-29T13:54:04.856956Z",
     "iopub.status.busy": "2022-07-29T13:54:04.856556Z",
     "iopub.status.idle": "2022-07-29T13:54:04.861419Z",
     "shell.execute_reply": "2022-07-29T13:54:04.860463Z"
    },
    "papermill": {
     "duration": 0.019885,
     "end_time": "2022-07-29T13:54:04.863988",
     "exception": false,
     "start_time": "2022-07-29T13:54:04.844103",
     "status": "completed"
    },
    "tags": []
   },
   "outputs": [
    {
     "name": "stdout",
     "output_type": "stream",
     "text": [
      "Accuracy score of the testing data: 0.7727272727272727\n"
     ]
    }
   ],
   "source": [
    "print('Accuracy score of the testing data:', test_data_accuracy)"
   ]
  },
  {
   "cell_type": "markdown",
   "id": "174d0190",
   "metadata": {
    "papermill": {
     "duration": 0.010614,
     "end_time": "2022-07-29T13:54:04.885400",
     "exception": false,
     "start_time": "2022-07-29T13:54:04.874786",
     "status": "completed"
    },
    "tags": []
   },
   "source": [
    "Making a Predictive System"
   ]
  },
  {
   "cell_type": "code",
   "execution_count": 26,
   "id": "35021a4a",
   "metadata": {
    "execution": {
     "iopub.execute_input": "2022-07-29T13:54:04.909621Z",
     "iopub.status.busy": "2022-07-29T13:54:04.908527Z",
     "iopub.status.idle": "2022-07-29T13:54:04.922580Z",
     "shell.execute_reply": "2022-07-29T13:54:04.921036Z"
    },
    "papermill": {
     "duration": 0.028826,
     "end_time": "2022-07-29T13:54:04.925116",
     "exception": false,
     "start_time": "2022-07-29T13:54:04.896290",
     "status": "completed"
    },
    "tags": []
   },
   "outputs": [
    {
     "name": "stdout",
     "output_type": "stream",
     "text": [
      "[[-0.25095213  0.1597866   0.97680475  1.28363829  1.34758997  0.92745247\n",
      "   0.70104112 -0.53102292]]\n",
      "[0]\n",
      "The person is not diabetic\n"
     ]
    },
    {
     "name": "stderr",
     "output_type": "stream",
     "text": [
      "/opt/conda/lib/python3.7/site-packages/sklearn/base.py:451: UserWarning: X does not have valid feature names, but StandardScaler was fitted with feature names\n",
      "  \"X does not have valid feature names, but\"\n"
     ]
    }
   ],
   "source": [
    "input_data=(3,126,88,41,235,39.3,0.704,27)\n",
    "#changing the input data to numpy array\n",
    "input_data_as_numpy=np.asarray(input_data)\n",
    "\n",
    "#reshape the array as we are predicting for one instance\n",
    "input_data_reshaped=input_data_as_numpy.reshape(1,-1)\n",
    "\n",
    "#standardize the input data\n",
    "std_data=scaler.transform(input_data_reshaped)\n",
    "print(std_data)\n",
    "\n",
    "prediction=classifier.predict(std_data)\n",
    "print(prediction)\n",
    "\n",
    "if (prediction[0]==0):\n",
    "    print('The person is not diabetic')\n",
    "else:\n",
    "    print('The person is diabetic')"
   ]
  },
  {
   "cell_type": "code",
   "execution_count": null,
   "id": "43f52e15",
   "metadata": {
    "papermill": {
     "duration": 0.010607,
     "end_time": "2022-07-29T13:54:04.947120",
     "exception": false,
     "start_time": "2022-07-29T13:54:04.936513",
     "status": "completed"
    },
    "tags": []
   },
   "outputs": [],
   "source": []
  }
 ],
 "metadata": {
  "kernelspec": {
   "display_name": "Python 3",
   "language": "python",
   "name": "python3"
  },
  "language_info": {
   "codemirror_mode": {
    "name": "ipython",
    "version": 3
   },
   "file_extension": ".py",
   "mimetype": "text/x-python",
   "name": "python",
   "nbconvert_exporter": "python",
   "pygments_lexer": "ipython3",
   "version": "3.7.12"
  },
  "papermill": {
   "default_parameters": {},
   "duration": 13.535368,
   "end_time": "2022-07-29T13:54:05.679937",
   "environment_variables": {},
   "exception": null,
   "input_path": "__notebook__.ipynb",
   "output_path": "__notebook__.ipynb",
   "parameters": {},
   "start_time": "2022-07-29T13:53:52.144569",
   "version": "2.3.4"
  }
 },
 "nbformat": 4,
 "nbformat_minor": 5
}
